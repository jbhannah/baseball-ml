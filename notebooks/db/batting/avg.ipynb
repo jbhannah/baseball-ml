{
 "nbformat": 4,
 "nbformat_minor": 2,
 "metadata": {
  "language_info": {
   "name": "python",
   "codemirror_mode": {
    "name": "ipython",
    "version": 3
   }
  },
  "orig_nbformat": 2,
  "file_extension": ".py",
  "mimetype": "text/x-python",
  "name": "python",
  "npconvert_exporter": "python",
  "pygments_lexer": "ipython3",
  "version": 3
 },
 "cells": [
  {
   "cell_type": "markdown",
   "execution_count": null,
   "metadata": {},
   "outputs": [],
   "source": [
    "# Batting Average"
   ]
  },
  {
   "cell_type": "code",
   "execution_count": 1,
   "metadata": {},
   "outputs": [],
   "source": [
    "from baseball.db import Session\n",
    "from baseball.db.models import Batting\n",
    "\n",
    "session = Session()"
   ]
  },
  {
   "cell_type": "markdown",
   "execution_count": null,
   "metadata": {},
   "outputs": [],
   "source": [
    "## Single-season batting average"
   ]
  },
  {
   "cell_type": "code",
   "execution_count": 2,
   "metadata": {},
   "outputs": [
    {
     "name": "stdout",
     "output_type": "stream",
     "text": "SELECT batting.\"playerID\" AS \"batting_playerID\", batting.\"yearID\" AS \"batting_yearID\", coalesce(batting.\"AB\", ?) + coalesce(batting.\"BB\", ?) + coalesce(batting.\"HBP\", ?) + coalesce(batting.\"SH\", ?) + coalesce(batting.\"SF\", ?) AS \"PA\", sum(coalesce(batting.\"H\", ?)) / CAST(sum(coalesce(batting.\"AB\", ?)) AS FLOAT) AS avg \nFROM batting GROUP BY batting.\"yearID\", batting.\"playerID\" \nHAVING coalesce(batting.\"AB\", ?) + coalesce(batting.\"BB\", ?) + coalesce(batting.\"HBP\", ?) + coalesce(batting.\"SH\", ?) + coalesce(batting.\"SF\", ?) >= ? AND sum(coalesce(batting.\"H\", ?)) / CAST(sum(coalesce(batting.\"AB\", ?)) AS FLOAT) >= ? ORDER BY sum(coalesce(batting.\"H\", ?)) / CAST(sum(coalesce(batting.\"AB\", ?)) AS FLOAT) DESC\n"
    }
   ],
   "source": [
    "single_season = session.query(Batting.playerID, Batting.yearID, Batting.PA, Batting.avg) \\\n",
    "                       .group_by(Batting.yearID, Batting.playerID) \\\n",
    "                       .order_by(Batting.avg.desc()) \\\n",
    "                       .having(Batting.PA >= 500) \\\n",
    "                       .having(Batting.avg >= 0.400)\n",
    "print(single_season)"
   ]
  },
  {
   "cell_type": "code",
   "execution_count": 3,
   "metadata": {},
   "outputs": [
    {
     "data": {
      "text/plain": "[('duffyhu01', 1894, 616, 0.4397031539888683),\n ('oneilti01', 1887, 572, 0.43520309477756286),\n ('lajoina01', 1901, 582, 0.4264705882352941),\n ('keelewi01', 1897, 618, 0.4237588652482269),\n ('hornsro01', 1924, 640, 0.42350746268656714),\n ('sislege01', 1922, 654, 0.4197952218430034),\n ('cobbty01', 1911, 654, 0.4196277495769882),\n ('thompsa01', 1894, 502, 0.4146341463414634),\n ('delahed01', 1899, 645, 0.40963855421686746),\n ('burkeje01', 1896, 647, 0.40955631399317405),\n ('cobbty01', 1912, 609, 0.40867992766726946),\n ('jacksjo01', 1911, 641, 0.4080560420315236),\n ('sislege01', 1920, 692, 0.40729001584786056),\n ('willite01', 1941, 606, 0.4057017543859649),\n ('burkeje01', 1895, 644, 0.40540540540540543),\n ('delahed01', 1894, 567, 0.4048582995951417),\n ('delahed01', 1895, 578, 0.4041666666666667),\n ('hamilbi01', 1894, 702, 0.4032258064516129),\n ('hornsro01', 1925, 605, 0.4027777777777778),\n ('heilmha01', 1923, 626, 0.4026717557251908),\n ('brownpe01', 1887, 610, 0.40219378427787933),\n ('hornsro01', 1922, 704, 0.4012841091492777),\n ('terrybi01', 1930, 710, 0.40126382306477093),\n ('jennihu01', 1896, 602, 0.40115163147792704),\n ('cobbty01', 1922, 612, 0.4011406844106464)]"
     },
     "execution_count": 3,
     "metadata": {},
     "output_type": "execute_result"
    }
   ],
   "source": [
    "single_season.all()"
   ]
  },
  {
   "cell_type": "markdown",
   "execution_count": null,
   "metadata": {},
   "outputs": [],
   "source": [
    "## Career batting average"
   ]
  },
  {
   "cell_type": "code",
   "execution_count": 4,
   "metadata": {},
   "outputs": [
    {
     "name": "stdout",
     "output_type": "stream",
     "text": "SELECT batting.\"playerID\" AS \"batting_playerID\", min(batting.\"yearID\") AS min_1, max(batting.\"yearID\") AS max_1, sum(coalesce(batting.\"H\", ?)) / CAST(sum(coalesce(batting.\"AB\", ?)) AS FLOAT) AS avg \nFROM batting GROUP BY batting.\"playerID\" \nHAVING sum(coalesce(batting.\"AB\", ?) + coalesce(batting.\"BB\", ?) + coalesce(batting.\"HBP\", ?) + coalesce(batting.\"SH\", ?) + coalesce(batting.\"SF\", ?)) >= ? ORDER BY sum(coalesce(batting.\"H\", ?)) / CAST(sum(coalesce(batting.\"AB\", ?)) AS FLOAT) DESC\n LIMIT ? OFFSET ?\n"
    }
   ],
   "source": [
    "from sqlalchemy import func\n",
    "career = session.query(Batting.playerID, func.min(Batting.yearID), func.max(Batting.yearID), Batting.avg) \\\n",
    "                .group_by(Batting.playerID) \\\n",
    "                .order_by(Batting.avg.desc()) \\\n",
    "                .having(func.sum(Batting.PA) >= 3000) \\\n",
    "                .limit(20)\n",
    "print(career)"
   ]
  },
  {
   "cell_type": "code",
   "execution_count": 5,
   "metadata": {},
   "outputs": [
    {
     "data": {
      "text/plain": "[('cobbty01', 1905, 1928, 0.36633143856580674),\n ('hornsro01', 1915, 1937, 0.35849749174109874),\n ('jacksjo01', 1908, 1920, 0.3557518570568159),\n ('odoulle01', 1919, 1934, 0.3492647058823529),\n ('delahed01', 1888, 1903, 0.34580559254327564),\n ('speaktr01', 1907, 1928, 0.34467876410004905),\n ('hamilbi01', 1888, 1901, 0.34442145471908325),\n ('willite01', 1939, 1960, 0.3444069556189982),\n ('broutda01', 1879, 1904, 0.3424026167112697),\n ('ruthba01', 1914, 1935, 0.34210526315789475),\n ('orrda01', 1883, 1890, 0.3420492550927334),\n ('heilmha01', 1914, 1932, 0.3415949659689226),\n ('brownpe01', 1882, 1894, 0.34149377593360997),\n ('keelewi01', 1892, 1910, 0.34128739378419276),\n ('terrybi01', 1923, 1936, 0.34116365899191037),\n ('sislege01', 1915, 1930, 0.34014757469456874),\n ('gehrilo01', 1923, 1939, 0.3400824896887889),\n ('burkeje01', 1890, 1905, 0.33823878471398056),\n ('gwynnto01', 1982, 2001, 0.3381782945736434),\n ('lajoina01', 1896, 1916, 0.33816475495307613)]"
     },
     "execution_count": 5,
     "metadata": {},
     "output_type": "execute_result"
    }
   ],
   "source": [
    "career.all()"
   ]
  }
 ]
}