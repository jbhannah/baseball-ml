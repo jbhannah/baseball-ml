{
 "nbformat": 4,
 "nbformat_minor": 2,
 "metadata": {
  "language_info": {
   "name": "python",
   "codemirror_mode": {
    "name": "ipython",
    "version": 3
   }
  },
  "orig_nbformat": 2,
  "file_extension": ".py",
  "mimetype": "text/x-python",
  "name": "python",
  "npconvert_exporter": "python",
  "pygments_lexer": "ipython3",
  "version": 3
 },
 "cells": [
  {
   "cell_type": "markdown",
   "execution_count": null,
   "metadata": {},
   "outputs": [],
   "source": [
    "# On-Base Percentage"
   ]
  },
  {
   "cell_type": "code",
   "execution_count": 1,
   "metadata": {},
   "outputs": [],
   "source": [
    "from baseball.db import Session\n",
    "from baseball.db.models import Batting\n",
    "\n",
    "session = Session()"
   ]
  },
  {
   "cell_type": "markdown",
   "execution_count": null,
   "metadata": {},
   "outputs": [],
   "source": [
    "## Single-season OBP"
   ]
  },
  {
   "cell_type": "code",
   "execution_count": 2,
   "metadata": {},
   "outputs": [
    {
     "name": "stdout",
     "output_type": "stream",
     "text": "SELECT batting.\"playerID\" AS \"batting_playerID\", batting.\"yearID\" AS \"batting_yearID\", sum(batting.\"H\" + coalesce(batting.\"BB\", ?) + coalesce(batting.\"HBP\", ?)) / CAST(sum(coalesce(batting.\"AB\", ?) + coalesce(batting.\"BB\", ?) + coalesce(batting.\"HBP\", ?) + coalesce(batting.\"SH\", ?) + coalesce(batting.\"SF\", ?)) - sum(coalesce(batting.\"SH\", ?)) AS FLOAT) AS obp \nFROM batting GROUP BY batting.\"yearID\", batting.\"playerID\" \nHAVING coalesce(batting.\"AB\", ?) + coalesce(batting.\"BB\", ?) + coalesce(batting.\"HBP\", ?) + coalesce(batting.\"SH\", ?) + coalesce(batting.\"SF\", ?) >= ? ORDER BY sum(batting.\"H\" + coalesce(batting.\"BB\", ?) + coalesce(batting.\"HBP\", ?)) / CAST(sum(coalesce(batting.\"AB\", ?) + coalesce(batting.\"BB\", ?) + coalesce(batting.\"HBP\", ?) + coalesce(batting.\"SH\", ?) + coalesce(batting.\"SF\", ?)) - sum(coalesce(batting.\"SH\", ?)) AS FLOAT) DESC\n LIMIT ? OFFSET ?\n"
    }
   ],
   "source": [
    "single_season = session.query(Batting.playerID, Batting.yearID, Batting.obp) \\\n",
    "                       .group_by(Batting.yearID, Batting.playerID) \\\n",
    "                       .order_by(Batting.obp.desc()) \\\n",
    "                       .having(Batting.PA >= 500) \\\n",
    "                       .limit(20)\n",
    "print(single_season)"
   ]
  },
  {
   "cell_type": "code",
   "execution_count": 3,
   "metadata": {},
   "outputs": [
    {
     "data": {
      "text/plain": "[('bondsba01', 2004, 0.6094003241491086),\n ('bondsba01', 2002, 0.5816993464052288),\n ('willite01', 1941, 0.5528052805280528),\n ('mcgrajo01', 1899, 0.547486033519553),\n ('ruthba01', 1923, 0.5445402298850575),\n ('ruthba01', 1920, 0.5327868852459017),\n ('bondsba01', 2003, 0.5290909090909091),\n ('willite01', 1957, 0.5256410256410257),\n ('hamilbi01', 1894, 0.520863309352518),\n ('ruthba01', 1926, 0.5155763239875389),\n ('bondsba01', 2001, 0.5150602409638554),\n ('willite01', 1954, 0.5133079847908745),\n ('ruthba01', 1924, 0.5125925925925926),\n ('ruthba01', 1921, 0.5123367198838897),\n ('mantlmi01', 1957, 0.5120385232744783),\n ('hornsro01', 1924, 0.507177033492823),\n ('kellejo01', 1894, 0.5024232633279483),\n ('duffyhu01', 1894, 0.5016501650165016),\n ('delahed01', 1895, 0.5),\n ('willite01', 1942, 0.4992548435171386)]"
     },
     "execution_count": 3,
     "metadata": {},
     "output_type": "execute_result"
    }
   ],
   "source": [
    "single_season.all()"
   ]
  },
  {
   "cell_type": "markdown",
   "execution_count": null,
   "metadata": {},
   "outputs": [],
   "source": [
    "## Career OBP"
   ]
  },
  {
   "cell_type": "code",
   "execution_count": 4,
   "metadata": {},
   "outputs": [
    {
     "name": "stdout",
     "output_type": "stream",
     "text": "SELECT batting.\"playerID\" AS \"batting_playerID\", min(batting.\"yearID\") AS min_1, max(batting.\"yearID\") AS max_1, sum(batting.\"H\" + coalesce(batting.\"BB\", ?) + coalesce(batting.\"HBP\", ?)) / CAST(sum(coalesce(batting.\"AB\", ?) + coalesce(batting.\"BB\", ?) + coalesce(batting.\"HBP\", ?) + coalesce(batting.\"SH\", ?) + coalesce(batting.\"SF\", ?)) - sum(coalesce(batting.\"SH\", ?)) AS FLOAT) AS obp \nFROM batting GROUP BY batting.\"playerID\" \nHAVING sum(coalesce(batting.\"AB\", ?) + coalesce(batting.\"BB\", ?) + coalesce(batting.\"HBP\", ?) + coalesce(batting.\"SH\", ?) + coalesce(batting.\"SF\", ?)) >= ? ORDER BY sum(batting.\"H\" + coalesce(batting.\"BB\", ?) + coalesce(batting.\"HBP\", ?)) / CAST(sum(coalesce(batting.\"AB\", ?) + coalesce(batting.\"BB\", ?) + coalesce(batting.\"HBP\", ?) + coalesce(batting.\"SH\", ?) + coalesce(batting.\"SF\", ?)) - sum(coalesce(batting.\"SH\", ?)) AS FLOAT) DESC\n LIMIT ? OFFSET ?\n"
    }
   ],
   "source": [
    "from sqlalchemy import func\n",
    "career = session.query(Batting.playerID, func.min(Batting.yearID), func.max(Batting.yearID), Batting.obp) \\\n",
    "                .group_by(Batting.playerID) \\\n",
    "                .order_by(Batting.obp.desc()) \\\n",
    "                .having(func.sum(Batting.PA) >= 3000) \\\n",
    "                .limit(20)\n",
    "print(career)"
   ]
  },
  {
   "cell_type": "code",
   "execution_count": 5,
   "metadata": {},
   "outputs": [
    {
     "data": {
      "text/plain": "[('willite01', 1939, 1960, 0.48170856325362765),\n ('ruthba01', 1914, 1935, 0.4739598210035228),\n ('mcgrajo01', 1891, 1907, 0.4656722517368206),\n ('hamilbi01', 1888, 1901, 0.45523078957809815),\n ('gehrilo01', 1923, 1939, 0.44735189449445256),\n ('bondsba01', 1986, 2007, 0.44429455641961596),\n ('joycebi01', 1890, 1898, 0.4348876540227108),\n ('hornsro01', 1915, 1937, 0.43374014472405226),\n ('cobbty01', 1905, 1928, 0.43293160118954455),\n ('foxxji01', 1925, 1945, 0.42827377851859566),\n ('speaktr01', 1907, 1928, 0.4279475982532751),\n ('vottojo01', 2007, 2018, 0.4271141336487286),\n ('collied01', 1906, 1930, 0.4243817787418655),\n ('fainfe01', 1947, 1955, 0.42407407407407405),\n ('broutda01', 1879, 1904, 0.42341285360448444),\n ('jacksjo01', 1908, 1920, 0.42273790250044974),\n ('bishoma01', 1924, 1935, 0.4226840436773512),\n ('mantlmi01', 1951, 1968, 0.42051541182415364),\n ('cochrmi01', 1925, 1937, 0.41915772089182496),\n ('thomafr04', 1990, 2008, 0.41909866984316063)]"
     },
     "execution_count": 5,
     "metadata": {},
     "output_type": "execute_result"
    }
   ],
   "source": [
    "career.all()"
   ]
  }
 ]
}